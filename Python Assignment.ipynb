{
 "cells": [
  {
   "cell_type": "markdown",
   "metadata": {},
   "source": [
    "# Python Assignment"
   ]
  },
  {
   "cell_type": "markdown",
   "metadata": {},
   "source": [
    "### 1.\tWrite a Python program which accepts the radius of a circle from the user and compute the area"
   ]
  },
  {
   "cell_type": "code",
   "execution_count": 1,
   "metadata": {},
   "outputs": [
    {
     "name": "stdout",
     "output_type": "stream",
     "text": [
      "Enter the radius of the circle0.25\n",
      "Area of circle is 0.19634954084936207 meter squared \n"
     ]
    }
   ],
   "source": [
    "import math\n",
    "pi = math.pi\n",
    "r = float(input(\"Enter the radius of the circle\"))\n",
    "r = r*r\n",
    "area_of_circle = pi*(r)\n",
    "print(f\"Area of circle is {area_of_circle} meter squared \")"
   ]
  },
  {
   "cell_type": "markdown",
   "metadata": {},
   "source": [
    "### 2.\tWrite a Python program to check if a number is positive, negative or zero"
   ]
  },
  {
   "cell_type": "code",
   "execution_count": 2,
   "metadata": {},
   "outputs": [
    {
     "name": "stdout",
     "output_type": "stream",
     "text": [
      "Enter the number. 098\n",
      "The 98 is positive.\n"
     ]
    }
   ],
   "source": [
    "number = int(input(\"Enter the number. \"))\n",
    "if number > 0:\n",
    "    print(f\"The {number} is positive.\")\n",
    "elif number < 0:\n",
    "    print(f\"The {number} is negative.\")\n",
    "elif number == 0:\n",
    "    print(f\"The {number} is zero.\")"
   ]
  },
  {
   "cell_type": "markdown",
   "metadata": {},
   "source": [
    "### 3.\tWrite a Python function to check whether a number is completely divisible by another "
   ]
  },
  {
   "cell_type": "code",
   "execution_count": 3,
   "metadata": {},
   "outputs": [
    {
     "name": "stdout",
     "output_type": "stream",
     "text": [
      "Enter the number. 56\n",
      "Enter the number. 8\n",
      "The number is completely divisible by another.\n"
     ]
    }
   ],
   "source": [
    "a= int(input(\"Enter the number. \"))\n",
    "b = int(input(\"Enter the number. \"))\n",
    "def number(a,b):\n",
    "    if a%b == 0:\n",
    "        print(\"The number is completely divisible by another.\")\n",
    "    else:\n",
    "        print(\"The number is not completely divisible by another.\")\n",
    "\n",
    "number(a,b)"
   ]
  },
  {
   "cell_type": "markdown",
   "metadata": {},
   "source": [
    "### 4.\tWrite a Python program that accepts an integer (n) and computes the value of (n+nn+nnn)"
   ]
  },
  {
   "cell_type": "code",
   "execution_count": 4,
   "metadata": {},
   "outputs": [
    {
     "name": "stdout",
     "output_type": "stream",
     "text": [
      "Enter a number: 76\n",
      "9348\n"
     ]
    }
   ],
   "source": [
    "num = int(input(\"Enter a number: \"))\n",
    "n = 0\n",
    "total = 0\n",
    "\n",
    "for a in range(3):\n",
    "    n  = num + n*10\n",
    "    total = total + n\n",
    "     \n",
    "print(total)"
   ]
  },
  {
   "cell_type": "markdown",
   "metadata": {},
   "source": [
    "### 5.\tWrite a Python program to calculate number of days between two dates"
   ]
  },
  {
   "cell_type": "code",
   "execution_count": 5,
   "metadata": {},
   "outputs": [
    {
     "name": "stdout",
     "output_type": "stream",
     "text": [
      "1827 days, 0:00:00\n"
     ]
    }
   ],
   "source": [
    "from datetime import date\n",
    "\n",
    "dt1 = date(year=2014,month=10,day=13)\n",
    "dt2 = date(year=2019,month=10,day=14)\n",
    "number_of_days = dt2 - dt1\n",
    "print(number_of_days)"
   ]
  },
  {
   "cell_type": "markdown",
   "metadata": {},
   "source": [
    "### 6.\tWrite a Python program to get the volume of a sphere, please take the radius as input from user. V=4 / 3 πr3"
   ]
  },
  {
   "cell_type": "code",
   "execution_count": 6,
   "metadata": {},
   "outputs": [
    {
     "name": "stdout",
     "output_type": "stream",
     "text": [
      "Enter the radius.0.25\n"
     ]
    },
    {
     "data": {
      "text/plain": [
       "0.06544984694978735"
      ]
     },
     "execution_count": 6,
     "metadata": {},
     "output_type": "execute_result"
    }
   ],
   "source": [
    "r = float(input(\"Enter the radius.\"))\n",
    "pi = math.pi\n",
    "def volume(r,pi):\n",
    "    volume = 4/3 * pi * (r**3)\n",
    "    return volume\n",
    "\n",
    "volume(r,pi)"
   ]
  },
  {
   "cell_type": "markdown",
   "metadata": {},
   "source": [
    "### 7.\tWrite a Python program to get the difference between a given number and 17, difference cannot be negative"
   ]
  },
  {
   "cell_type": "code",
   "execution_count": 7,
   "metadata": {},
   "outputs": [
    {
     "name": "stdout",
     "output_type": "stream",
     "text": [
      "Enter the number876\n",
      "859\n"
     ]
    }
   ],
   "source": [
    "num1 = int(input(\"Enter the number\"))\n",
    "num2 = 17\n",
    "if num1 > num2:\n",
    "    difference = num1 - num2\n",
    "    print(difference)\n",
    "elif num1 < num2:\n",
    "    difference = -(num1 - num2)\n",
    "    print(difference)"
   ]
  },
  {
   "cell_type": "markdown",
   "metadata": {},
   "source": [
    "### 8.\tWrite a Python program to get a new string from a given string where \"Is\" has been added to the front. If the given string already begins with \"Is\" then return the string unchanged"
   ]
  },
  {
   "cell_type": "code",
   "execution_count": 8,
   "metadata": {},
   "outputs": [
    {
     "name": "stdout",
     "output_type": "stream",
     "text": [
      "Is Array\n"
     ]
    }
   ],
   "source": [
    "def new_string(str):\n",
    "    if len(str) >= 2 and str[:2] == \"Is\":\n",
    "        \n",
    "        return str\n",
    "    return \"Is\" + \" \" + str\n",
    "print(new_string(\"Array\"))\n"
   ]
  },
  {
   "cell_type": "markdown",
   "metadata": {},
   "source": [
    "### 9.\tWrite a Python program to get a string which is n (non-negative integer) copies of a given string"
   ]
  },
  {
   "cell_type": "code",
   "execution_count": 10,
   "metadata": {},
   "outputs": [
    {
     "name": "stdout",
     "output_type": "stream",
     "text": [
      "Enter the stringHaMza & Maryam\n",
      "HaMza & Maryam\n",
      "HaMza & Maryam\n",
      "HaMza & Maryam\n",
      "HaMza & Maryam\n",
      "HaMza & Maryam\n"
     ]
    }
   ],
   "source": [
    "string = input(\"Enter the string\")\n",
    "\n",
    "for i in range(5):\n",
    "    print(string)"
   ]
  },
  {
   "cell_type": "markdown",
   "metadata": {},
   "source": [
    "### 10.\tWrite a Python program to find whether a given number (accept from the user) is even or odd, print out an appropriate message to the user."
   ]
  },
  {
   "cell_type": "code",
   "execution_count": 11,
   "metadata": {},
   "outputs": [
    {
     "name": "stdout",
     "output_type": "stream",
     "text": [
      "Enter the number75\n",
      "75 is odd.\n"
     ]
    }
   ],
   "source": [
    "given_number = int(input(\"Enter the number\"))\n",
    "\n",
    "if given_number % 2 == 0:\n",
    "    print(f\"{given_number} is even.\")\n",
    "else:\n",
    "    print(f\"{given_number} is odd.\")"
   ]
  },
  {
   "cell_type": "markdown",
   "metadata": {},
   "source": [
    "### 11.\tWrite a Python program to test whether a passed letter is a vowel or not"
   ]
  },
  {
   "cell_type": "code",
   "execution_count": 22,
   "metadata": {},
   "outputs": [
    {
     "name": "stdout",
     "output_type": "stream",
     "text": [
      "Enter the letter. m\n",
      "The given letter is not vowel.\n",
      "The given letter is not vowel.\n",
      "The given letter is not vowel.\n",
      "The given letter is not vowel.\n",
      "The given letter is not vowel.\n"
     ]
    }
   ],
   "source": [
    "given_letter = input(\"Enter the letter. \")\n",
    "vowels = ['a','e','i','o','u']\n",
    "for v in vowels:\n",
    "    if given_letter == v:\n",
    "        print(\"The given letter is vowel.\")\n",
    "        break\n",
    "    else:\n",
    "        print(\"The given letter is not vowel.\")\n",
    "        "
   ]
  },
  {
   "cell_type": "markdown",
   "metadata": {},
   "source": [
    "### 12.\tWrite a Python program that will accept the base and height of a triangle and compute the area"
   ]
  },
  {
   "cell_type": "code",
   "execution_count": 24,
   "metadata": {},
   "outputs": [
    {
     "name": "stdout",
     "output_type": "stream",
     "text": [
      "Enter the base of triangle. 0.34\n",
      "Enter the height of triangle. 1.2\n",
      "0.20400000000000001\n"
     ]
    }
   ],
   "source": [
    "b = float(input(\"Enter the base of triangle. \"))\n",
    "h = float(input(\"Enter the height of triangle. \"))\n",
    "A = (1/2) * (b)*(h)\n",
    "print(A)"
   ]
  },
  {
   "cell_type": "markdown",
   "metadata": {},
   "source": [
    "### 13.\tWrite a Python program that will return true if the two given integer values are equal or their sum or difference is 5."
   ]
  },
  {
   "cell_type": "code",
   "execution_count": 2,
   "metadata": {},
   "outputs": [
    {
     "name": "stdout",
     "output_type": "stream",
     "text": [
      "Enter the integer one. 7\n",
      "Enter the integer two. 2\n"
     ]
    },
    {
     "data": {
      "text/plain": [
       "True"
      ]
     },
     "execution_count": 2,
     "metadata": {},
     "output_type": "execute_result"
    }
   ],
   "source": [
    "num1 = int(input(\"Enter the integer one. \"))\n",
    "num2 = int(input(\"Enter the integer two. \"))\n",
    "def program(num1,num2):\n",
    "    if num1 == num2 or (num1 - num2) == 5 or (num1 + num2) == 5:\n",
    "        \n",
    "        return True\n",
    "    else:\n",
    "        return False\n",
    "    \n",
    "program(num1,num2)"
   ]
  },
  {
   "cell_type": "markdown",
   "metadata": {},
   "source": [
    "### 14.\tWrite a Python program to solve (x + y) * (x + y)"
   ]
  },
  {
   "cell_type": "code",
   "execution_count": 4,
   "metadata": {},
   "outputs": [
    {
     "name": "stdout",
     "output_type": "stream",
     "text": [
      "Enter the number. 7\n",
      "Enter the number. 8\n"
     ]
    },
    {
     "data": {
      "text/plain": [
       "225"
      ]
     },
     "execution_count": 4,
     "metadata": {},
     "output_type": "execute_result"
    }
   ],
   "source": [
    "x = int(input(\"Enter the number. \"))\n",
    "y = int(input(\"Enter the number. \"))\n",
    "def solve(x,y):\n",
    "    return (x+y) * (x+y)\n",
    "solve(x,y)"
   ]
  },
  {
   "cell_type": "markdown",
   "metadata": {},
   "source": [
    "### 15.\tWrite a Python program to compute the future value of a specified principal amount, rate of interest, and a number of years."
   ]
  },
  {
   "cell_type": "code",
   "execution_count": 6,
   "metadata": {},
   "outputs": [
    {
     "name": "stdout",
     "output_type": "stream",
     "text": [
      "Enter the principle amount. 12000\n",
      "Enter the number of years. 8\n",
      "15801.708\n"
     ]
    }
   ],
   "source": [
    "amt = int(input(\"Enter the principle amount. \"))\n",
    "years = int(input(\"Enter the number of years. \"))\n",
    "int = 3.5\n",
    "\n",
    "future_value = amt*((1+(0.01*int)) ** years)\n",
    "\n",
    "print(round(future_value,3))"
   ]
  },
  {
   "cell_type": "markdown",
   "metadata": {},
   "source": [
    "### 16.\tWrite a Python program to compute the distance between the points (x1, y1) and (x2, y2)."
   ]
  },
  {
   "cell_type": "code",
   "execution_count": 1,
   "metadata": {},
   "outputs": [
    {
     "name": "stdout",
     "output_type": "stream",
     "text": [
      "Enter the point. 2\n",
      "Enter the point. 1\n",
      "Enter the point. 3\n",
      "Enter the point. 2\n"
     ]
    },
    {
     "data": {
      "text/plain": [
       "1.4142135623730951"
      ]
     },
     "execution_count": 1,
     "metadata": {},
     "output_type": "execute_result"
    }
   ],
   "source": [
    "x1 = int(input(\"Enter the point. \"))\n",
    "x2 = int(input(\"Enter the point. \"))\n",
    "y1 = int(input(\"Enter the point. \"))\n",
    "y2 = int(input(\"Enter the point. \"))\n",
    "\n",
    "def distance(x1,x2,y1,y2):\n",
    "    distance = ((((x2 - x1)**2) + ((y2 - y1)**2))**0.5)\n",
    "    return distance\n",
    "distance(x1,x2,y1,y2)"
   ]
  },
  {
   "cell_type": "markdown",
   "metadata": {},
   "source": [
    "### 17.\tWrite a Python program to convert height (in feet and inches) to centimetres."
   ]
  },
  {
   "cell_type": "code",
   "execution_count": 15,
   "metadata": {},
   "outputs": [
    {
     "name": "stdout",
     "output_type": "stream",
     "text": [
      "Enter the height in feet. 5\n",
      "Enter the height in inches. 3\n"
     ]
    },
    {
     "data": {
      "text/plain": [
       "(7.62, 152.4)"
      ]
     },
     "execution_count": 15,
     "metadata": {},
     "output_type": "execute_result"
    }
   ],
   "source": [
    "hfeet = int(input(\"Enter the height in feet. \"))\n",
    "hinches = int(input(\"Enter the height in inches. \"))\n",
    "one_feet = 30.48\n",
    "one_inch = 2.54\n",
    "def height(hfeet,hinches):\n",
    "    height_in_feet = hfeet * one_feet\n",
    "    height_in_inches = hinches * one_inch\n",
    "    return height_in_inches,height_in_feet\n",
    "        \n",
    "        \n",
    "height(hfeet,hinches)\n",
    "        \n",
    "        \n",
    "        "
   ]
  },
  {
   "cell_type": "markdown",
   "metadata": {},
   "source": [
    "### 18.\tWrite a Python program to calculate the hypotenuse of a right angled triangle"
   ]
  },
  {
   "cell_type": "code",
   "execution_count": 16,
   "metadata": {},
   "outputs": [
    {
     "name": "stdout",
     "output_type": "stream",
     "text": [
      "Enter the value of a. 3\n",
      "Enter the value of b. 4\n"
     ]
    },
    {
     "data": {
      "text/plain": [
       "12.5"
      ]
     },
     "execution_count": 16,
     "metadata": {},
     "output_type": "execute_result"
    }
   ],
   "source": [
    "a = int(input(\"Enter the value of a. \"))\n",
    "b = int(input(\"Enter the value of b. \"))\n",
    "def hypotenuse(a,b):\n",
    "    c = (((a**2)+(b**2))*0.5)\n",
    "    return c\n",
    "hypotenuse(a,b)"
   ]
  },
  {
   "cell_type": "markdown",
   "metadata": {},
   "source": [
    "### 19.\tWrite a Python program to convert the distance (in feet) to inches, yards, and miles. 1 feet = 12 inches, 3 feet = 1 yard, 5280 feet = 1 mile"
   ]
  },
  {
   "cell_type": "code",
   "execution_count": 17,
   "metadata": {},
   "outputs": [
    {
     "name": "stdout",
     "output_type": "stream",
     "text": [
      "Enter the distance in feet. 23\n"
     ]
    },
    {
     "data": {
      "text/plain": [
       "(276, 0.004356062, 7.666659)"
      ]
     },
     "execution_count": 17,
     "metadata": {},
     "output_type": "execute_result"
    }
   ],
   "source": [
    "dfeet = int(input(\"Enter the distance in feet. \"))\n",
    "dinches = 12\n",
    "dmiles = 0.000189394\n",
    "dyards = 0.333333\n",
    "def distance(dfeet):\n",
    "    distance_in_inches = dfeet * dinches\n",
    "    distance_in_miles = dfeet * dmiles\n",
    "    distance_in_yards = dfeet * dyards\n",
    "    return distance_in_inches, distance_in_miles, distance_in_yards\n",
    "distance(dfeet)"
   ]
  },
  {
   "cell_type": "markdown",
   "metadata": {},
   "source": [
    "### 20.\tWrite a Python program to convert all units of time into seconds."
   ]
  },
  {
   "cell_type": "code",
   "execution_count": 18,
   "metadata": {},
   "outputs": [
    {
     "name": "stdout",
     "output_type": "stream",
     "text": [
      "Enter the number of days. 1\n",
      "Enter the number of hours 2\n",
      "Enter the number of minutes. 34\n",
      "Enter the number od seconds. 56\n",
      "The total number of seconds are:95696.\n"
     ]
    }
   ],
   "source": [
    "days = int(input(\"Enter the number of days. \")) * 24 * 60 * 60\n",
    "hours = int(input(\"Enter the number of hours \")) * 60 * 60\n",
    "minutes = int(input(\"Enter the number of minutes. \")) * 60\n",
    "seconds = int(input(\"Enter the number od seconds. \"))\n",
    "\n",
    "total_number_of_seconds = days + hours + minutes + seconds\n",
    "print(f\"The total number of seconds are:{total_number_of_seconds}.\")"
   ]
  },
  {
   "cell_type": "markdown",
   "metadata": {},
   "source": [
    "### 21.\tWrite a Python program to convert seconds to day, hour, minutes and seconds"
   ]
  },
  {
   "cell_type": "code",
   "execution_count": 1,
   "metadata": {},
   "outputs": [
    {
     "name": "stdout",
     "output_type": "stream",
     "text": [
      "Enter the number of seconds. 87654\n"
     ]
    },
    {
     "data": {
      "text/plain": [
       "(1.0, 24.3, 1460.9)"
      ]
     },
     "execution_count": 1,
     "metadata": {},
     "output_type": "execute_result"
    }
   ],
   "source": [
    "seconds = int(input(\"Enter the number of seconds. \"))\n",
    "\n",
    "def conversion(seconds):\n",
    "    days = round(seconds / 86400, 1)\n",
    "    hours = round(seconds/3600,1)\n",
    "    minutes = round(seconds/60,1)\n",
    "    return days,hours,minutes\n",
    "conversion(seconds)"
   ]
  },
  {
   "cell_type": "markdown",
   "metadata": {},
   "source": [
    "### 22.\tWrite a Python program to calculate body mass index. "
   ]
  },
  {
   "cell_type": "code",
   "execution_count": 6,
   "metadata": {},
   "outputs": [
    {
     "name": "stdout",
     "output_type": "stream",
     "text": [
      "Enter your weight.25\n",
      "Enter your height.3.2\n",
      "your Body Mass Index is :26.279078165795216\n"
     ]
    }
   ],
   "source": [
    "kg = int(input(\"Enter your weight.\" ))\n",
    "m = float(input(\"Enter your height.\" )) * 0.3048\n",
    "def BMI(kg,m):\n",
    "    BMI = kg / (m**2)\n",
    "    print(f\"your Body Mass Index is :{BMI}\")\n",
    "BMI(kg,m)"
   ]
  },
  {
   "cell_type": "markdown",
   "metadata": {},
   "source": [
    "### 23.\tWrite a Python program to convert temperatures to and from Celsius, Fahrenheit"
   ]
  },
  {
   "cell_type": "code",
   "execution_count": 9,
   "metadata": {},
   "outputs": [
    {
     "name": "stdout",
     "output_type": "stream",
     "text": [
      "Input the  temperature you like to convert? (e.g., 45F, 102C etc.) : 54c\n",
      "The temperature in Fahrenheit is 129 degrees.\n"
     ]
    }
   ],
   "source": [
    "temp = input(\"Input the  temperature you like to convert? (e.g., 45F, 102C etc.) : \")\n",
    "degree = int(temp[:-1])\n",
    "i_convention = temp[-1]\n",
    "\n",
    "if i_convention.upper() == \"C\":\n",
    "  result = int(round((9 * degree) / 5 + 32))\n",
    "  o_convention = \"Fahrenheit\"\n",
    "elif i_convention.upper() == \"F\":\n",
    "  result = int(round((degree - 32) * 5 / 9))\n",
    "  o_convention = \"Celsius\"\n",
    "else:\n",
    "  print(\"Input proper convention.\")\n",
    "  quit()\n",
    "print(\"The temperature in\", o_convention, \"is\", result, \"degrees.\")"
   ]
  },
  {
   "cell_type": "code",
   "execution_count": 10,
   "metadata": {},
   "outputs": [
    {
     "name": "stdout",
     "output_type": "stream",
     "text": [
      "Enter temperature in celsius: 67\n",
      "67.00 Celsius is: 152.60 Fahrenheit\n",
      "Enter temperature in fahrenheit: 87\n",
      "87.00 Fahrenheit is: 30.56 Celsius\n"
     ]
    }
   ],
   "source": [
    "celsius = float(input(\"Enter temperature in celsius: \"))\n",
    "fahrenheit = (celsius * 9/5) + 32\n",
    "print('%.2f Celsius is: %0.2f Fahrenheit' %(celsius, fahrenheit))\n",
    "fahrenheit = float(input(\"Enter temperature in fahrenheit: \"))\n",
    "celsius = (fahrenheit - 32) * 5/9\n",
    "print('%.2f Fahrenheit is: %0.2f Celsius' %(fahrenheit, celsius))"
   ]
  },
  {
   "cell_type": "markdown",
   "metadata": {},
   "source": [
    "### 24.\tWrite a python program to sum of the first n positive integers"
   ]
  },
  {
   "cell_type": "code",
   "execution_count": 14,
   "metadata": {},
   "outputs": [
    {
     "name": "stdout",
     "output_type": "stream",
     "text": [
      "Enter the positive integer: 8\n",
      "36.0\n"
     ]
    }
   ],
   "source": [
    "n = int(input(\"Enter the positive integer: \"))\n",
    "for i in range(n):\n",
    "    sum = (n *(n+1)) / 2\n",
    "print(sum)    "
   ]
  },
  {
   "cell_type": "markdown",
   "metadata": {},
   "source": [
    "### 25.\tWrite a Python program to calculate the sum of the digits in an integer"
   ]
  },
  {
   "cell_type": "code",
   "execution_count": 2,
   "metadata": {},
   "outputs": [
    {
     "name": "stdout",
     "output_type": "stream",
     "text": [
      "Enter the number: 2345\n",
      "14\n"
     ]
    }
   ],
   "source": [
    "n = int(input(\"Enter the number: \"))\n",
    "\n",
    "def getSum(n):\n",
    "    sum = 0\n",
    "    for digit in str(n):\n",
    "      sum += int(digit)      \n",
    "    return sum\n",
    "print(getSum(n))"
   ]
  },
  {
   "cell_type": "markdown",
   "metadata": {},
   "source": [
    "### 26.\tWrite a Python program to convert an integer to Binary, Octal and Hexadecimal numbers"
   ]
  },
  {
   "cell_type": "code",
   "execution_count": 3,
   "metadata": {},
   "outputs": [
    {
     "name": "stdout",
     "output_type": "stream",
     "text": [
      "Enter the integer: 567\n",
      "The decimal value of 567 is :\n",
      "0b1000110111 in binary.\n",
      "0o1067 in octal. \n",
      "0x237 in hexadecimal.\n"
     ]
    }
   ],
   "source": [
    "integer = int(input(\"Enter the integer: \"))\n",
    "\n",
    "print(f\"The decimal value of {integer} is :\")\n",
    "print(bin(integer),\"in binary.\")\n",
    "print(oct(integer), \"in octal. \")\n",
    "print(hex(integer), \"in hexadecimal.\")\n",
    "    "
   ]
  },
  {
   "cell_type": "code",
   "execution_count": 5,
   "metadata": {},
   "outputs": [
    {
     "name": "stdout",
     "output_type": "stream",
     "text": [
      "Enter the integer value:567\n"
     ]
    },
    {
     "data": {
      "text/plain": [
       "('0b1000110111', '0o1067', '0x237')"
      ]
     },
     "execution_count": 5,
     "metadata": {},
     "output_type": "execute_result"
    }
   ],
   "source": [
    "integer = int(input(\"Enter the integer value:\"))\n",
    "\n",
    "def conversion(integer):\n",
    "    binary = bin(integer)\n",
    "    octal = oct(integer)\n",
    "    hexadecimal = hex(integer)\n",
    "    return binary,octal,hexadecimal\n",
    "conversion(integer)"
   ]
  },
  {
   "cell_type": "markdown",
   "metadata": {},
   "source": [
    "### 27.\tWrite a program to convert binary number to Decimal number"
   ]
  },
  {
   "cell_type": "code",
   "execution_count": 10,
   "metadata": {},
   "outputs": [
    {
     "name": "stdout",
     "output_type": "stream",
     "text": [
      "Enter the binary number:101010101\n",
      "num(decimal format): 341\n"
     ]
    }
   ],
   "source": [
    "try:\n",
    "    num = int(input(\"Enter the binary number:\"),2)\n",
    "    print(\"num(decimal format):\", num)\n",
    "except ValueError:\n",
    "    print(\"Please input only binary values...\")\n"
   ]
  },
  {
   "cell_type": "markdown",
   "metadata": {},
   "source": [
    "### 28.\tWrite a program to convert Octal number to Decimal number"
   ]
  },
  {
   "cell_type": "code",
   "execution_count": 12,
   "metadata": {},
   "outputs": [
    {
     "name": "stdout",
     "output_type": "stream",
     "text": [
      "Enter the octal number:456\n",
      "num(octal format): 302\n"
     ]
    }
   ],
   "source": [
    "try:\n",
    "    num = int(input(\"Enter the octal number:\"),8)\n",
    "    print(\"num(octal format):\",num)\n",
    "except ValueError:\n",
    "    print(\"Please input only octal vales...\")"
   ]
  },
  {
   "cell_type": "markdown",
   "metadata": {},
   "source": [
    "### 29.\tWrite a program to convert Hexadecimal number to Decimal number"
   ]
  },
  {
   "cell_type": "code",
   "execution_count": 14,
   "metadata": {},
   "outputs": [
    {
     "name": "stdout",
     "output_type": "stream",
     "text": [
      "Enter the hexadecimal number:456\n",
      "num(hexadecimal format): 1110\n"
     ]
    }
   ],
   "source": [
    "try:\n",
    "    num = int(input(\"Enter the hexadecimal number:\"),16)\n",
    "    print(\"num(hexadecimal format):\",num)\n",
    "except ValueError:\n",
    "    print(\"Please input only hexadecimal values..\")\n",
    "    "
   ]
  },
  {
   "cell_type": "markdown",
   "metadata": {},
   "source": [
    "### 30.\tWrite a Python program to count the number occurrence of a specific character in a string"
   ]
  },
  {
   "cell_type": "code",
   "execution_count": 17,
   "metadata": {},
   "outputs": [
    {
     "name": "stdout",
     "output_type": "stream",
     "text": [
      "Enter the string:it impress me very much\n",
      "Original statement:\n",
      "The number of occurance of specific charavter is:\n",
      "2\n"
     ]
    }
   ],
   "source": [
    "inp = input(\"Enter the string:\")\n",
    "print(\"Original statement:\")\n",
    "print(\"The number of occurance of specific charavter is:\")\n",
    "print(inp.count(\"i\"))"
   ]
  },
  {
   "cell_type": "markdown",
   "metadata": {},
   "source": [
    "### 31.\tWrite a Python program to compute the greatest common divisor (GCD) of two positive integers. "
   ]
  },
  {
   "cell_type": "code",
   "execution_count": 8,
   "metadata": {},
   "outputs": [
    {
     "name": "stdout",
     "output_type": "stream",
     "text": [
      "Enter a:12\n",
      "Enter b9\n",
      "The gcd of 12 and 9 is:3\n"
     ]
    }
   ],
   "source": [
    "a = int(input(\"Enter a:\"))\n",
    "b = int(input(\"Enter b\"))\n",
    "def hcfnaive(a,b):\n",
    "    if(b==0):\n",
    "        return a\n",
    "    else:\n",
    "        return hcfnaive(b,a%b)\n",
    "print (\"The gcd of\",a, \"and\", b, \"is:\",end=\"\")\n",
    "print (hcfnaive(a,b))"
   ]
  },
  {
   "cell_type": "code",
   "execution_count": 12,
   "metadata": {},
   "outputs": [
    {
     "name": "stdout",
     "output_type": "stream",
     "text": [
      "The gcd of 60 and 48 is : 12\n"
     ]
    }
   ],
   "source": [
    "def computeGCD(x, y):\n",
    "  \n",
    "    if x > y:\n",
    "        small = y\n",
    "    else:\n",
    "        small = x\n",
    "    for i in range(1, small+1):\n",
    "        if((x % i == 0) and (y % i == 0)):\n",
    "            gcd = i\n",
    "              \n",
    "    return gcd\n",
    "  \n",
    "a = 60\n",
    "b= 48\n",
    "  \n",
    "# prints 12\n",
    "print (\"The gcd of 60 and 48 is : \",end=\"\")\n",
    "print (computeGCD(60,48))"
   ]
  },
  {
   "cell_type": "markdown",
   "metadata": {},
   "source": [
    "### 32.\tWrite a Python program to get the least common multiple (LCM) of two positive integers"
   ]
  },
  {
   "cell_type": "code",
   "execution_count": 14,
   "metadata": {},
   "outputs": [
    {
     "name": "stdout",
     "output_type": "stream",
     "text": [
      "Enter a:54\n",
      "Enter b24\n",
      "The L.C.M is : 216\n"
     ]
    }
   ],
   "source": [
    "a = int(input(\"Enter a:\"))\n",
    "b = int(input(\"Enter b\"))\n",
    "\n",
    "def computeLCM(a,b):\n",
    "    if a > b:\n",
    "        greater = a\n",
    "    else:\n",
    "        greater = b\n",
    "        \n",
    "    while(True):\n",
    "        if((greater % a == 0) and (greater % b == 0)):\n",
    "            lcm = greater\n",
    "            break\n",
    "            \n",
    "        greater += 1\n",
    "        \n",
    "    return lcm\n",
    "print(\"The L.C.M is :\", computeLCM(a,b))"
   ]
  },
  {
   "cell_type": "markdown",
   "metadata": {},
   "source": [
    "### 33.\tWrite a Python program which accepts the user's first and last name and print them in reverse order with a space between them (Practice After Loops has been discussed"
   ]
  },
  {
   "cell_type": "code",
   "execution_count": 18,
   "metadata": {},
   "outputs": [
    {
     "name": "stdout",
     "output_type": "stream",
     "text": [
      "Enter your first name: Hamza\n",
      "Enter your last name: Mushtaq\n",
      "Mushtaq  Hamza\n"
     ]
    }
   ],
   "source": [
    "first_name = input(\"Enter your first name: \")\n",
    "last_name = input(\"Enter your last name: \")\n",
    "full_name = first_name + \" \" + last_name\n",
    "for name in full_name:\n",
    "    print(last_name + \"  \" + first_name)\n",
    "    break\n"
   ]
  },
  {
   "cell_type": "markdown",
   "metadata": {},
   "source": [
    "### 34.\tInput a text and count the occurrences of vowels and consonant "
   ]
  },
  {
   "cell_type": "code",
   "execution_count": 25,
   "metadata": {},
   "outputs": [
    {
     "name": "stdout",
     "output_type": "stream",
     "text": [
      "Enter the text:lkjhgfdsaasdfgjkllkjsa\n",
      "The number of vowels is : 3\n",
      "The number od constants is : 19\n"
     ]
    }
   ],
   "source": [
    "text = input(\"Enter the text:\")\n",
    "vowels = 0\n",
    "constants = 0\n",
    "for i in text:\n",
    "    if (i == 'a' or i =='e' or i=='i' or i=='o' or i =='u' or \n",
    "        i=='A' or i=='E' or i =='I' or i =='O' or i =='u'):\n",
    "        vowels = vowels+1\n",
    "    else:\n",
    "        constants = constants+1\n",
    "    \n",
    "print(\"The number of vowels is :\" , vowels)\n",
    "print(\"The number od constants is :\", constants)"
   ]
  },
  {
   "cell_type": "markdown",
   "metadata": {},
   "source": [
    "### 35.\tWrite a Python program to find the number of notes (Sample of notes: 10, 20, 50, 100, 500, and 1000 ) against an given amount"
   ]
  },
  {
   "cell_type": "code",
   "execution_count": 35,
   "metadata": {},
   "outputs": [
    {
     "name": "stdout",
     "output_type": "stream",
     "text": [
      "amount = 34567\n",
      "1000:34\n",
      "500:1\n",
      "100:0\n",
      "50:1\n",
      "20:0\n",
      "10:1\n"
     ]
    }
   ],
   "source": [
    "nominals = (1000, 500, 100, 50, 20, 10)\n",
    "amount = int(input('amount = '))\n",
    "output = {}\n",
    "for n in nominals:\n",
    "\toutput[n] = amount // n\n",
    "\tamount %= n\n",
    "for k, v in output.items():\n",
    "\tprint(k, v, sep=':')"
   ]
  },
  {
   "cell_type": "markdown",
   "metadata": {},
   "source": [
    "### 36.\tWrite a program to check whether given input is palindrome or not"
   ]
  },
  {
   "cell_type": "markdown",
   "metadata": {},
   "source": [
    "#### A palindrome is nothing but any number or a string which remains unaltered when reversed"
   ]
  },
  {
   "cell_type": "code",
   "execution_count": 36,
   "metadata": {},
   "outputs": [
    {
     "name": "stdout",
     "output_type": "stream",
     "text": [
      "Enter the input:hamza\n",
      "The input is not palindrome.\n"
     ]
    }
   ],
   "source": [
    "user_input = input(\"Enter the input:\")\n",
    "if (user_input == user_input[::-1]):\n",
    "    print(\"The input is palindrome\")\n",
    "else:\n",
    "    print(\"The input is not palindrome.\")"
   ]
  },
  {
   "cell_type": "code",
   "execution_count": 38,
   "metadata": {},
   "outputs": [
    {
     "name": "stdout",
     "output_type": "stream",
     "text": [
      "Enter a number:123321\n",
      "The number is palindrome!\n"
     ]
    }
   ],
   "source": [
    "num=int(input(\"Enter a number:\"))\n",
    "temp=num\n",
    "rev=0\n",
    "while(num>0):\n",
    "    dig=num%10\n",
    "    rev=rev*10+dig\n",
    "    num=num//10\n",
    "if(temp==rev):\n",
    "    print(\"The number is palindrome!\")\n",
    "else:\n",
    "    print(\"Not a palindrome!\")"
   ]
  },
  {
   "cell_type": "markdown",
   "metadata": {},
   "source": [
    "### 37.\tWrite a Python program to reverse the digits of a given number and add it to the original, If the sum is not a palindrome repeat this procedure"
   ]
  },
  {
   "cell_type": "code",
   "execution_count": 6,
   "metadata": {},
   "outputs": [
    {
     "name": "stdout",
     "output_type": "stream",
     "text": [
      "48884\n",
      "993399\n"
     ]
    }
   ],
   "source": [
    "def rev_number(n):\n",
    "  s = 0\n",
    "  while True:\n",
    "    k = str(n)\n",
    "    if k == k[::-1]:\n",
    "      break\n",
    "    else:\n",
    "      m = int(k[::-1])\n",
    "      n += m\n",
    "      s += 1\n",
    "  return n \n",
    "\n",
    "print(rev_number(5678))\n",
    "print(rev_number(9876))"
   ]
  },
  {
   "cell_type": "markdown",
   "metadata": {},
   "source": [
    "### 38.\tWrite a Python program to get the Fibonacci series between 0 to 50"
   ]
  },
  {
   "cell_type": "code",
   "execution_count": 7,
   "metadata": {},
   "outputs": [
    {
     "name": "stdout",
     "output_type": "stream",
     "text": [
      "1\n",
      "1\n",
      "2\n",
      "3\n",
      "5\n",
      "8\n",
      "13\n",
      "21\n",
      "34\n"
     ]
    }
   ],
   "source": [
    "x,y=0,1\n",
    "\n",
    "while y<50:\n",
    "    print(y)\n",
    "    x,y = y,x+y"
   ]
  },
  {
   "cell_type": "markdown",
   "metadata": {},
   "source": [
    "### 39.\tWrite a Python program to create the multiplication table (from 1 to 10) of a number"
   ]
  },
  {
   "cell_type": "code",
   "execution_count": 10,
   "metadata": {},
   "outputs": [
    {
     "name": "stdout",
     "output_type": "stream",
     "text": [
      "Enter the table number:9\n",
      "9 * 1 = 9\n",
      "9 * 2 = 18\n",
      "9 * 3 = 27\n",
      "9 * 4 = 36\n",
      "9 * 5 = 45\n",
      "9 * 6 = 54\n",
      "9 * 7 = 63\n",
      "9 * 8 = 72\n",
      "9 * 9 = 81\n",
      "9 * 10 = 90\n"
     ]
    }
   ],
   "source": [
    "table = int(input(\"Enter the table number:\"))\n",
    "for i in range(1,11):\n",
    "    print(f\"{table} * {i} = {table*i}\")"
   ]
  },
  {
   "cell_type": "markdown",
   "metadata": {},
   "source": [
    "### 40.\tWrite a Python program that accepts a string and calculate the number of digits and lettersSample Data : Python 3.2, Expected Output :Letters 6, Digits 2"
   ]
  },
  {
   "cell_type": "code",
   "execution_count": 11,
   "metadata": {},
   "outputs": [
    {
     "name": "stdout",
     "output_type": "stream",
     "text": [
      "Input a stringkjfd345678gfdssfgh\n",
      "Letters 12\n",
      "Digits 6\n"
     ]
    }
   ],
   "source": [
    "s = input(\"Input a string\")\n",
    "d=l=0\n",
    "for c in s:\n",
    "    if c.isdigit():\n",
    "        d=d+1\n",
    "    elif c.isalpha():\n",
    "        l=l+1\n",
    "    else:\n",
    "        pass\n",
    "print(\"Letters\", l)\n",
    "print(\"Digits\", d)"
   ]
  },
  {
   "cell_type": "markdown",
   "metadata": {},
   "source": [
    "### 41.\tWrite a Python program to construct the following pattern, using a nested for loop\n",
    "### * \n",
    "### * * \n",
    "### * * * \n",
    "### * * * * \n",
    "### * * * * * \n",
    "### * * * * \n",
    "### * * * \n",
    "### * * \n",
    "### *\n"
   ]
  },
  {
   "cell_type": "code",
   "execution_count": 15,
   "metadata": {},
   "outputs": [
    {
     "name": "stdout",
     "output_type": "stream",
     "text": [
      " \n",
      "* \n",
      "** \n",
      "*** \n",
      "**** \n",
      "***** \n",
      "**** \n",
      "*** \n",
      "** \n",
      "* \n"
     ]
    }
   ],
   "source": [
    "n = 5\n",
    "\n",
    "for i in range(n):\n",
    "    for j in range(i):\n",
    "        print(\"*\", end=\"\")\n",
    "    print(\" \")\n",
    "for i in range(n,0,-1):\n",
    "    for j in range(i):\n",
    "        print(\"*\", end=\"\")\n",
    "    print(\" \")    "
   ]
  },
  {
   "cell_type": "markdown",
   "metadata": {},
   "source": [
    "### 42.\tWrite a Python program to construct the following pattern, using a nested for loop\n",
    "### 1\n",
    "### 12\n",
    "### 123\n",
    "### 1234\n",
    "### 12345\n",
    "### 1234\n",
    "### 123\n",
    "### 12\n",
    "### 1\n"
   ]
  },
  {
   "cell_type": "code",
   "execution_count": 28,
   "metadata": {},
   "outputs": [
    {
     "name": "stdout",
     "output_type": "stream",
     "text": [
      "1 \n",
      "1 2 \n",
      "1 2 3 \n",
      "1 2 3 4 \n",
      "1 2 3 4 5 \n",
      "1 \n",
      "2 1 \n",
      "3 2 1 \n",
      "4 3 2 1 \n",
      "5 4 3 2 1 \n"
     ]
    }
   ],
   "source": [
    "rows = 5\n",
    "for i in range(1, rows + 1):\n",
    "    for j in range(1, i + 1):\n",
    "        print(j, end=' ')\n",
    "    print('')\n",
    "rows = 6\n",
    "for i in range(1, rows):\n",
    "    for j in range(i, 0, -1):\n",
    "        print(j, end=' ')\n",
    "    print(\"\")"
   ]
  },
  {
   "cell_type": "code",
   "execution_count": null,
   "metadata": {},
   "outputs": [],
   "source": []
  }
 ],
 "metadata": {
  "kernelspec": {
   "display_name": "Python 3",
   "language": "python",
   "name": "python3"
  },
  "language_info": {
   "codemirror_mode": {
    "name": "ipython",
    "version": 3
   },
   "file_extension": ".py",
   "mimetype": "text/x-python",
   "name": "python",
   "nbconvert_exporter": "python",
   "pygments_lexer": "ipython3",
   "version": "3.8.5"
  }
 },
 "nbformat": 4,
 "nbformat_minor": 4
}
